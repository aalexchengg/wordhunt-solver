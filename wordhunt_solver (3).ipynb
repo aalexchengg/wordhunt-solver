{
  "nbformat": 4,
  "nbformat_minor": 0,
  "metadata": {
    "colab": {
      "provenance": []
    },
    "kernelspec": {
      "name": "python3",
      "display_name": "Python 3"
    },
    "language_info": {
      "name": "python"
    }
  },
  "cells": [
    {
      "cell_type": "markdown",
      "source": [
        "*TODO*\n",
        "\n",
        "*   weird looking boards\n",
        "*   rnn???? / new way to implement the solver\n",
        "*   classifier (is the board easy, medium, or hard??) ideas could involve looking at runtime, straight up the content of the board, or outputs of alexei/someone else\n",
        "*   \n",
        "\n",
        "\n"
      ],
      "metadata": {
        "id": "-VvKS9X1w70i"
      }
    },
    {
      "cell_type": "code",
      "execution_count": null,
      "metadata": {
        "id": "Su3zW5IEm3P2"
      },
      "outputs": [],
      "source": [
        "from collections import Counter, defaultdict\n",
        "from itertools import product\n",
        "import math\n",
        "import io\n",
        "import os\n",
        "import time\n",
        "import random\n",
        "import torch.nn as nn\n",
        "import torch\n",
        "import matplotlib.pyplot as plt\n",
        "import statistics"
      ]
    },
    {
      "cell_type": "code",
      "source": [
        "#PREPROCESSING\n",
        "def get_ngrams(path, n):\n",
        "  result = []\n",
        "  with open(path) as input:\n",
        "    for line in input:\n",
        "      if(len(line)<3 or len(line)>16):\n",
        "        continue\n",
        "      line = \"0\" + line\n",
        "      for i in range(len(line) - (n-1)):\n",
        "        result.append((line[i:i+n]))\n",
        "  return result\n",
        "\n",
        "\n",
        "def post_process(input):\n",
        "  result = []\n",
        "  for value in input:\n",
        "    result.append(value[1:-1])\n",
        "  return result"
      ],
      "metadata": {
        "id": "ZUTujwufng2m"
      },
      "execution_count": null,
      "outputs": []
    },
    {
      "cell_type": "code",
      "source": [
        "#HELPER FUNCTIONS\n",
        "\n",
        "#turns a 2d matrix into an adjacency list of indeces\n",
        "def board_to_adjlist(board):\n",
        "    result = dict()\n",
        "    for i in range(len(board)):\n",
        "        for j in range(len(board[0])):\n",
        "            idx = (i,j)\n",
        "            neighbors = []\n",
        "            for x in range(-1,2):\n",
        "                for y in range(-1,2):\n",
        "                    if(not(x == 0 and y ==0)):\n",
        "                        if(x + i >=0 and y + j >=0 and x + i < len(board) and y + j < len(board[0])):\n",
        "                            neighbors.append((i+x,j+y))\n",
        "            result[idx] = neighbors\n",
        "    return result\n",
        "\n",
        "#turns a 2d matrix into a list of characters\n",
        "def board_to_list(board):\n",
        "  result = []\n",
        "  for row in board:\n",
        "    result = result + row\n",
        "  result.sort()\n",
        "  return result\n",
        "\n",
        "def board_to_dict(board):\n",
        "  result = dict()\n",
        "  for i in range(len(board)):\n",
        "    for j in range(len(board[0])):\n",
        "      if(board[i][j] not in result):\n",
        "        result[board[i][j]] = [(i,j)]\n",
        "      else:\n",
        "        result[board[i][j]].append((i,j))\n",
        "  return result\n",
        "\n",
        "def exists(word, chars):\n",
        "  #REQUIRES: char is sorted\n",
        "  word = list(word)\n",
        "  word.sort()\n",
        "  curr = 0\n",
        "  i = 0\n",
        "  length = len(chars)\n",
        "  goal = len(word)\n",
        "  while(i < length):\n",
        "    if(curr == goal):\n",
        "      return True\n",
        "    if(word[curr] == chars[i]):\n",
        "      curr +=1\n",
        "    elif(word[curr] < chars[i]):\n",
        "      return False\n",
        "    i +=1\n",
        "  return curr == goal \n",
        "\n",
        "def validate(dictionary, result):\n",
        "  res = []\n",
        "  for word in result:\n",
        "    if(dictionary.get_word(word)):\n",
        "      res.append(word)\n",
        "  return res \n",
        "\n",
        "## CODE FOR TESTING ##\n",
        "\n",
        "# prepares the dict of letters to scrabble freqs that we use in the next function\n",
        "def generate_scrabble_freqs():\n",
        "  scrabble_freqs = {\n",
        "      'e': 12.49,\n",
        "      't':  9.28,\n",
        "      'a':  8.04,\n",
        "      'o':  7.64,\n",
        "      'i':  7.57,\n",
        "      'n':  7.23,\n",
        "      's':  6.51,\n",
        "      'r':  6.28,\n",
        "      'h':  5.05,\n",
        "      'l':  4.07,\n",
        "      'd':  3.82,\n",
        "      'c':  3.34,\n",
        "      'u':  2.73,\n",
        "      'm':  2.51,\n",
        "      'f':  2.40,\n",
        "      'p':  2.14,\n",
        "      'g':  1.87,\n",
        "      'w':  1.68,\n",
        "      'y':  1.66,\n",
        "      'b':  1.48,\n",
        "      'v':  1.05,\n",
        "      'k':  0.54,\n",
        "      'x':  0.23,\n",
        "      'j':  0.16,\n",
        "      'q':  0.12,\n",
        "      'z':  0.09\n",
        "  }\n",
        "  scrabble_freqs = dict(sorted(scrabble_freqs.items(), key=lambda x:x[1]))\n",
        "  index = -1\n",
        "  preventry = \"\"\n",
        "  for entry in scrabble_freqs:\n",
        "    scrabble_freqs[entry[0]] = round(scrabble_freqs[entry[0]] * 100)\n",
        "    # if the previous entry exists, add it to the current entry\n",
        "    if(index >= 0):\n",
        "      scrabble_freqs[entry[0]] = scrabble_freqs[entry[0]] + scrabble_freqs[preventry]\n",
        "    index += 1\n",
        "    preventry = entry[0]\n",
        "  return scrabble_freqs\n",
        "\n",
        "#generates number_of_boards boards with dimensions x by y\n",
        "def generate_random_boards(number_of_boards, x, y):\n",
        "  letter_freqs = generate_scrabble_freqs()\n",
        "  boards = []\n",
        "  for i in range(number_of_boards):\n",
        "    boards.append([[0]*y for i in range(x)])\n",
        "    # fill up the board w/random letters\n",
        "    for j in range(x):\n",
        "      for k in range(y):\n",
        "        # generate random letter\n",
        "        seed = random.randint(0,9998)\n",
        "        letter = ''\n",
        "        for l in letter_freqs:\n",
        "          if(seed <= letter_freqs[l]):\n",
        "            letter = l\n",
        "            break\n",
        "        assert(letter != '')\n",
        "        boards[i][j][k] = letter.upper()\n",
        "  return boards\n",
        "\n",
        "def precision(sols, ref_sols):\n",
        "  prec = 0\n",
        "  if(len(sols) == 0):\n",
        "    return 0\n",
        "  for word in sols:\n",
        "    if(word in ref_sols):\n",
        "      prec += 1\n",
        "  return prec/len(sols)\n",
        "\n",
        "def recall(sols, ref_sols):\n",
        "  rec = 0\n",
        "  if(len(ref_sols) == 0):\n",
        "    return 0\n",
        "  for word in ref_sols:\n",
        "    if(word in sols):\n",
        "      rec += 1\n",
        "  return rec/len(ref_sols)"
      ],
      "metadata": {
        "id": "f6In1_lC07Gj"
      },
      "execution_count": null,
      "outputs": []
    },
    {
      "cell_type": "code",
      "source": [
        "generate_random_boards(2,4,4)"
      ],
      "metadata": {
        "id": "k2SbTi9gmExW",
        "colab": {
          "base_uri": "https://localhost:8080/"
        },
        "outputId": "65063a9e-3e50-4e00-a5cf-671f49e95236"
      },
      "execution_count": null,
      "outputs": [
        {
          "output_type": "execute_result",
          "data": {
            "text/plain": [
              "[[['E', 'I', 'E', 'O'],\n",
              "  ['H', 'T', 'B', 'H'],\n",
              "  ['O', 'T', 'E', 'A'],\n",
              "  ['N', 'G', 'T', 'E']],\n",
              " [['R', 'L', 'T', 'T'],\n",
              "  ['E', 'D', 'H', 'I'],\n",
              "  ['P', 'L', 'C', 'E'],\n",
              "  ['E', 'M', 'H', 'T']]]"
            ]
          },
          "metadata": {},
          "execution_count": 4
        }
      ]
    },
    {
      "cell_type": "markdown",
      "source": [
        "# Building a Literal Hash Dictionary"
      ],
      "metadata": {
        "id": "J0OOoly0Gvxv"
      }
    },
    {
      "cell_type": "code",
      "source": [
        "class Dictionary():\n",
        "  def __init__(self, path, size):\n",
        "    self.size = size\n",
        "    self.book = self.build(path, size)\n",
        "    self.listed = self.to_list(path)\n",
        "  \n",
        "  def build(self, path, size):\n",
        "    result = dict()\n",
        "    with open(path) as input:\n",
        "      for line in input:\n",
        "        line = line[:-1]\n",
        "        num = hash(line) % size\n",
        "        if num in result:\n",
        "          result[num].append(line)\n",
        "        else:\n",
        "          result[num] = [line]\n",
        "    return result\n",
        "  \n",
        "  def to_list(self, path):\n",
        "    result = []\n",
        "    with open(path) as input:\n",
        "      for line in input:\n",
        "        result.append(line[:-1])\n",
        "    return result\n",
        "\n",
        "  def get_word(self, word):\n",
        "    num = hash(word) % self.size\n",
        "    return (num in self.book and word in self.book[num])\n",
        "  \n",
        "\n",
        "\n",
        "\n",
        "\n"
      ],
      "metadata": {
        "id": "ck0725JYObW-"
      },
      "execution_count": null,
      "outputs": []
    },
    {
      "cell_type": "markdown",
      "source": [
        "# Building Our N-Gram Language Model"
      ],
      "metadata": {
        "id": "SXL7xTibGoqh"
      }
    },
    {
      "cell_type": "code",
      "source": [
        "class LanguageModel():\n",
        "    def __init__(self, n, train_data, alpha=1):\n",
        "        \"\"\"\n",
        "        Language model class.\n",
        "        \n",
        "        Args\n",
        "        ____\n",
        "        n: int\n",
        "            n-gram order\n",
        "        train_data: List[List]\n",
        "            list of words in the dictionary that have not been preprocessed yet\n",
        "        alpha: float\n",
        "            Smoothing parameter\n",
        "        \n",
        "        Other required parameters:\n",
        "            self.vocab: vocabulary dict with counts\n",
        "            self.model: n-gram language model, i.e., n-gram dict with probabilties\n",
        "            self.n_grams_counts: Frequency count for each of the n-grams present in the training data\n",
        "            self.prefix_counts: Frequency count of all the corresponding n-1 grams present in the training data\n",
        "        \"\"\"\n",
        "        self.n = n\n",
        "        self.train_data = train_data\n",
        "        self.tokens = self.train_data\n",
        "        self.n_grams_counts = None\n",
        "        self.prefix_counts = None\n",
        "        self.vocab  = Counter(self.tokens)\n",
        "        self.alpha = alpha\n",
        "        self.model = self.build()\n",
        "\n",
        "    def get_smooth_probabilities(self,n_gram):\n",
        "      vocab_size = len(self.vocab)\n",
        "      ngram_sum = self.n_grams_counts[n_gram]\n",
        "\n",
        "      prefix_sum = len(self.tokens)\n",
        "      if(self.n>1):\n",
        "        prefix_sum = self.prefix_counts[n_gram[0:self.n-1]]\n",
        "        \n",
        "        \n",
        "\n",
        "      return (ngram_sum + self.alpha)/(prefix_sum + self.alpha*vocab_size)\n",
        "\n",
        "\n",
        "      #Returns the smoothed probability of a single ngram, using Laplace Smoothing. Remember to handle the special case of n=1\n",
        "      #Use the class variables we defined in the build function. It is suggested to implement the build function before this one.\n",
        "\n",
        "    \n",
        "    #TODO:\n",
        "    def build(self):\n",
        "        \n",
        "        #Returns a n-gram (could be a unigram) dict with n-gram tuples as keys and probabilities as values. \n",
        "        #It could be a unigram model as well\n",
        "        ngrams = get_ngrams(self.train_data,n=self.n)\n",
        "        prefix_ngrams = get_ngrams(self.train_data,n = self.n-1)\n",
        "\n",
        "        self.n_grams_counts = Counter(ngrams)\n",
        "        self.prefix_counts = Counter(prefix_ngrams)\n",
        "\n",
        "        prob = dict()\n",
        "        for n_gram in self.n_grams_counts:\n",
        "          prob[n_gram] = self.get_smooth_probabilities(n_gram)\n",
        "\n",
        "        return prob"
      ],
      "metadata": {
        "id": "-YS-RbLznc5v"
      },
      "execution_count": null,
      "outputs": []
    },
    {
      "cell_type": "markdown",
      "source": [
        "# Albert: N-Gram Language Model-Based Solver"
      ],
      "metadata": {
        "id": "pqlS4eMWGh8H"
      }
    },
    {
      "cell_type": "code",
      "source": [
        "class Albert():\n",
        "  def __init__(self, model,n):\n",
        "    # I want to pass in a naive bayes n-gram model here.\n",
        "    #the probability \"p\" is the parameter we want to train\n",
        "    self.model = model\n",
        "    self.p = 0.03\n",
        "    self.n = n\n",
        "    self.weight = 0.5\n",
        "    self.learning_rate = .05\n",
        "  \n",
        "  def check_probability(self, path, next):\n",
        "    candidate = path[-(self.n-1):] + next\n",
        "    return (candidate in self.model and self.model[candidate] >= self.p)\n",
        "  \n",
        "\n",
        "  def bfs(self, tile, adjlist, board, path, result, visited):\n",
        "    #INPUT\n",
        "    #tile : the root tile that we are starting from\n",
        "    #adjlist : adjacency list of our graph\n",
        "    #board : 2d matrix of our graph so accessing is easier\n",
        "    #path : the current accumulated letters for our words\n",
        "    #pathprob : should we add the log probability of the current path? will do it on second try\n",
        "    #result : the resulting set from the past\n",
        "    #visited : the tiles that we have already visited\n",
        "\n",
        "    #OUTPUT\n",
        "    #result : the resulting set after conducting bfs\n",
        "\n",
        "    #check if current path is a word\n",
        "    if(len(path)>3 and self.check_probability(path, \"\\n\")):\n",
        "      result.add(path + \"\\n\")\n",
        "\n",
        "    #check if extensions are a word\n",
        "    #for each neighbor\n",
        "    for neighbor in adjlist[tile]:\n",
        "        #if we haven't visited it yet, we do smth\n",
        "        #so if we've visited all the neighbors we just move on\n",
        "        if neighbor not in visited:\n",
        "            next = str(board[neighbor[0]][neighbor[1]])\n",
        "            #check probabilities\n",
        "            if(self.check_probability(path, next)):\n",
        "              new = path + next\n",
        "              temp = visited.copy()\n",
        "              temp.append(neighbor)\n",
        "              result = result | self.bfs(neighbor, adjlist, board, new, result, temp)\n",
        "    return result \n",
        "\n",
        "\n",
        "  def solve(self, board):\n",
        "      #INPUT\n",
        "      # board: a 2-d char array of n x n dimensions\n",
        "      # cutoff: the probability 0 < cutoff < 1, such that if the probability a character follows is lower than this cutoff we do not pursue this path\n",
        "\n",
        "      #OUTPUT\n",
        "      # result: a set of words found from the board\n",
        "\n",
        "      result = set()\n",
        "\n",
        "      #first, we want to make an adjacency list\n",
        "      adjlist = board_to_adjlist(board)\n",
        "      for tile in adjlist:\n",
        "        visited = [tile]\n",
        "        path = \"0\" + str(board[tile[0]][tile[1]])\n",
        "        found = self.bfs(tile, adjlist, board,path , set(), visited)\n",
        "        result = result | found\n",
        "         \n",
        "      return post_process(result)\n",
        "  \n",
        "\n",
        "  \n",
        "  def train(self, boards, ref_sol):\n",
        "    board_num = 0\n",
        "    index_coords = []\n",
        "    precision_coords = []\n",
        "    recall_coords = []\n",
        "    p_coords = []\n",
        "    runtime_coords = []\n",
        "    for board in boards:\n",
        "      # print(\"Board number \", board_num)\n",
        "      # print(board)\n",
        "      # this timer will make sure that every board takes less than some amount of time\n",
        "      board = [board]\n",
        "      starttime = time.perf_counter()\n",
        "      metrics = self.evaluate(board, ref_sol)\n",
        "      endtime = time.perf_counter()\n",
        "      runtime = endtime - starttime\n",
        "      # print(\"Time taken: \", runtime)\n",
        "      # bullshit weights tbh but here is where we will evaluate and update\n",
        "      # if recall isn't high enough, then subtract something from the cutoff prob\n",
        "      self.p = self.p - (self.weight)*(1-metrics[0][1])*self.learning_rate\n",
        "      # if time is too high, add something to the cutoff prob (assumption is a tradeoff b/t time and recall)\n",
        "      self.p = self.p + self.learning_rate*runtime\n",
        "      # print(\"New cutoff: \", self.p, \"\\n\")\n",
        "      # append a ton of stuff to a ton of lists for plotting purposes\n",
        "      index_coords.append(board_num)\n",
        "      precision_coords.append(metrics[0][0])\n",
        "      recall_coords.append(metrics[0][1])\n",
        "      p_coords.append(self.p)\n",
        "      runtime_coords.append(runtime)\n",
        "      # increment board number\n",
        "      board_num += 1\n",
        "    # now we are going to plot a bunch of stuff for eval purposes\n",
        "    plt.plot(index_coords, precision_coords)\n",
        "    plt.ylabel(\"precision\")\n",
        "    plt.show()\n",
        "    plt.plot(index_coords, recall_coords)\n",
        "    plt.ylabel(\"recall\")\n",
        "    plt.show()\n",
        "    plt.plot(index_coords, p_coords)\n",
        "    plt.ylabel(\"p values\")\n",
        "    plt.show()\n",
        "    plt.plot(index_coords, runtime_coords)\n",
        "    plt.ylabel(\"runtime\")\n",
        "    plt.show()\n",
        "\n",
        "\n",
        "\n",
        "    #essentially, what we want to do here is solve each board\n",
        "    #its better to make our probability initially really small so that\n",
        "    #runtime isn't dogshit (it will take eons to run if we go through every single possible path)\n",
        "    #then our loss function will be p = p * log (wP/wR) (thinking about adding here, see which one does better), \n",
        "    # where wP is the weighted precision and wR is the weighted recall (this is based on wordhunt scores, eg 800 for 5 letter words)\n",
        "    #we keep going until we go through all the boards and solutions\n",
        "    #afterwards, print our final p-value to see where it ended up\n",
        "    return\n",
        "  \n",
        "\n",
        "  def evaluate(self, boards, ref_sol):\n",
        "    # boards: a list of boards (generated by the helper function generate_random_boards)\n",
        "    # this will contain a a row for every board; each row contains the precision, recall, and f1 of our solution against reference, in that order\n",
        "    summary_stats = []\n",
        "    epoch = 0\n",
        "    for board in boards:\n",
        "      reference = ref_sol.solve(board)\n",
        "      train_sol = self.solve(board)\n",
        "      # find precision, recall\n",
        "      prec = precision(train_sol, reference)\n",
        "      rec = recall(train_sol, reference)\n",
        "      f1 = 0\n",
        "      if(prec + rec != 0):\n",
        "        f1 = (prec * rec)/(prec + rec)\n",
        "      # print(\"Precision: \", prec, \"Recall: \", rec, \"F1\", f1, \"Cutoff prob: \", self.p)\n",
        "      summary_stats.append([prec, rec, f1])\n",
        "    return summary_stats"
      ],
      "metadata": {
        "id": "o_UOthuAT3C0"
      },
      "execution_count": null,
      "outputs": []
    },
    {
      "cell_type": "markdown",
      "source": [
        "Possible Cross-Entropy Loss Function:\n",
        "\n",
        "Loss = -1/(output size) * Σ_(from 1 ~ output size) (x_i * log xhat_i) + ((1-x_i) * log (1-xhat_i))\n",
        "\n",
        "ideally if we wanna take time into account, we should add a penalty term to Loss Function that is proportional to Time Elapsed (e.g. maybe log?? MSE), where it is MSE between predicted (based on ngram length?) - true elapsed time"
      ],
      "metadata": {
        "id": "wQrvi6fVcHIu"
      }
    },
    {
      "cell_type": "markdown",
      "source": [
        "# Alexei: Albert 2.0\n",
        "Alexei is also a n-gram based, model, but this time we will look at overall path probability, rather than localized n-gram probability."
      ],
      "metadata": {
        "id": "DFo04kN2b34V"
      }
    },
    {
      "cell_type": "markdown",
      "source": [],
      "metadata": {
        "id": "05m7D4hVcFQr"
      }
    },
    {
      "cell_type": "markdown",
      "source": [],
      "metadata": {
        "id": "h01szF_jcEjk"
      }
    },
    {
      "cell_type": "code",
      "source": [
        "class Alexei():\n",
        "  def __init__(self, path , n, size, beta, alpha):\n",
        "    # I want to pass in a naive bayes n-gram model here.\n",
        "    #the probability \"p\" is the parameter we want to train\n",
        "    lm = LanguageModel(n, path)\n",
        "    dictionary = Dictionary(path, size)\n",
        "    self.model = lm.model\n",
        "    self.beta = beta\n",
        "    self.alpha = alpha\n",
        "    self.p = self.find_cutoffs(dictionary.listed)\n",
        "    self.p[16] = -30\n",
        "    self.n = n\n",
        "    \n",
        "  \n",
        "  def calculate_logprob(self, word, n):\n",
        "    word = \"0\" + word + \"\\n\"\n",
        "    result = 0\n",
        "    for i in range(len(word) - (n-1)):\n",
        "      result += math.log(self.model[word[i:i+n]])\n",
        "    return result\n",
        "  \n",
        "  def eq(self, x, alpha, beta):\n",
        "    exponent = -((1/math.log(x))*(x-10))\n",
        "    coefficient = (0.5 - 1/(1 + math.exp(exponent)))\n",
        "    return beta + alpha*coefficient\n",
        "  \n",
        "  def find_cutoffs(self, dictionary):\n",
        "    temp = dict()\n",
        "    result = dict()\n",
        "    for word in dictionary:\n",
        "      if (len(word) in temp):\n",
        "        temp[len(word)].append(self.calculate_logprob(word, 3))\n",
        "      else:\n",
        "        temp[len(word)] = [self.calculate_logprob(word, 3)]\n",
        "    for length,probabilities in temp.items():\n",
        "        result[length] = statistics.mean(probabilities) - (self.eq(length, self.alpha, self.beta))*statistics.stdev(probabilities)\n",
        "        #print(\"length: {}, mean: {:.3f}, std: {:.3f}\".format(length, statistics.mean(probabilities), statistics.stdev(probabilities)))\n",
        "    return result\n",
        "  \n",
        "  def check_probability(self, path, pathprob, next):\n",
        "    length = len(path)\n",
        "    #if(length == 16):\n",
        "    #  print(path)\n",
        "    candidate = path[-(self.n-1):] + next\n",
        "    \n",
        "    if (candidate in self.model):\n",
        "      nextprob = math.log(self.model[candidate])\n",
        "      if (length == 2 or pathprob + nextprob >= self.p[length-1]):\n",
        "        return nextprob\n",
        "    return 0\n",
        "  \n",
        "\n",
        "  def bfs(self, tile, adjlist, board, path, pathprob, result, visited):\n",
        "    #INPUT\n",
        "    #tile : the root tile that we are starting from\n",
        "    #adjlist : adjacency list of our graph\n",
        "    #board : 2d matrix of our graph so accessing is easier\n",
        "    #path : the current accumulated letters for our words\n",
        "    #pathprob : should we add the log probability of the current path? will do it on second try\n",
        "    #result : the resulting set from the past\n",
        "    #visited : the tiles that we have already visited\n",
        "\n",
        "    #OUTPUT\n",
        "    #result : the resulting set after conducting bfs\n",
        "\n",
        "    #check if current path is a word\n",
        "    if(len(path)>3 and self.check_probability(path, pathprob,\"\\n\")):\n",
        "      result.add(path + \"\\n\")\n",
        "\n",
        "    #check if extensions are a word\n",
        "    #for each neighbor\n",
        "    for neighbor in adjlist[tile]:\n",
        "        #if we haven't visited it yet, we do smth\n",
        "        #so if we've visited all the neighbors we just move on\n",
        "        if neighbor not in visited:\n",
        "            next = str(board[neighbor[0]][neighbor[1]])\n",
        "            #check probabilities\n",
        "            nextprob = self.check_probability(path, pathprob, next)\n",
        "            if(nextprob):\n",
        "              new = path + next\n",
        "              temp = visited.copy()\n",
        "              temp.append(neighbor)\n",
        "              result = result | self.bfs(neighbor, adjlist, board, new, pathprob + nextprob, result, temp)\n",
        "    return result \n",
        "\n",
        "\n",
        "  def solve(self, board):\n",
        "      #INPUT\n",
        "      # board: a 2-d char array of n x n dimensions\n",
        "      # cutoff: the probability 0 < cutoff < 1, such that if the probability a character follows is lower than this cutoff we do not pursue this path\n",
        "\n",
        "      #OUTPUT\n",
        "      # result: a set of words found from the board\n",
        "\n",
        "      result = set()\n",
        "\n",
        "      #first, we want to make an adjacency list\n",
        "      adjlist = board_to_adjlist(board)\n",
        "      for tile in adjlist:\n",
        "        visited = [tile]\n",
        "        path = \"0\" + str(board[tile[0]][tile[1]])\n",
        "        found = self.bfs(tile, adjlist, board, path , 0, set(), visited)\n",
        "        result = result | found\n",
        "         \n",
        "      return post_process(result)\n",
        "  \n",
        "  def train(self, boards, solutions):\n",
        "    #essentially, what we want to do here is solve each board\n",
        "    #its better to make our probability initially really small so that\n",
        "    #runtime isn't dogshit (it will take eons to run if we go through every single possible path)\n",
        "    #then our loss function will be p = p * log (wP/wR) (thinking about adding here, see which one does better), \n",
        "    # where wP is the weighted precision and wR is the weighted recall (this is based on wordhunt scores, eg 800 for 5 letter words)\n",
        "    #we keep going until we go through all the boards and solutions\n",
        "    #afterwards, print our final p-value to see where it ended up\n",
        "    for board in boards:\n",
        "      candidate_sol = self.solve(board)\n",
        "      prec = self.precision()\n",
        "    return\n",
        "  \n",
        "\n",
        "  def evaluate(self, boards):\n",
        "    # boards: a list of boards (generated by the helper function generate_random_boards)\n",
        "    # this will contain a a row for every board; each row contains the precision, recall, and f1 of our solution against reference, in that order\n",
        "    summary_stats = []\n",
        "    epoch = 0\n",
        "    for board in boards:\n",
        "      print(board)\n",
        "      print(\"epoch\", epoch, \":\\n\")\n",
        "      # TODO: FIX THE SYNTAX (ref_sol.solve is 100% not correct)\n",
        "      ref_sol = ref_sol.solve(board)\n",
        "      train_sol = self.solve(board)\n",
        "      # find precision, recall\n",
        "      prec = self.precision(train_sol, ref_sol)\n",
        "      rec = self.recall(train_sol, ref_sol)\n",
        "      f1 = (prec * rec)/(prec + rec)\n",
        "      print(\"Precision: \", prec, \"Recall: \", rec, \"F1\", f1)\n",
        "      summary_stats.append([prec, rec, f1])\n",
        "    return summary_stats"
      ],
      "metadata": {
        "id": "hMmQaY4Cb9i-"
      },
      "execution_count": null,
      "outputs": []
    },
    {
      "cell_type": "markdown",
      "source": [
        "# Isaac: Dictionary-Based Solver"
      ],
      "metadata": {
        "id": "vSblfq6cGcR6"
      }
    },
    {
      "cell_type": "code",
      "source": [
        "class Isaac():\n",
        "  def __init__(self, dictionary):\n",
        "    self.dictionary = dictionary.listed\n",
        "  \n",
        "\n",
        "  def dfs(self, word, tile, adjlist, visited, path, board):\n",
        "    if(path == len(word)):\n",
        "      return True\n",
        "    \n",
        "    for neighbor in adjlist[tile]:\n",
        "      if neighbor not in visited:\n",
        "        if board[neighbor[0]][neighbor[1]] == word[path]:\n",
        "          temp = visited.copy()\n",
        "          temp.append(neighbor)\n",
        "          if(self.dfs(word,neighbor, adjlist, temp, path + 1, board)):\n",
        "            return True\n",
        "\n",
        "    return False\n",
        "\n",
        "\n",
        "\n",
        "  def solve(self, board):\n",
        "    result = []\n",
        "    adjlist = board_to_adjlist(board)\n",
        "    lst = board_to_list(board)\n",
        "    ref = board_to_dict(board)\n",
        "    #im going to make a dictionary for easy access\n",
        "\n",
        "    for word in self.dictionary:\n",
        "      if len(word) > 2 and len(word) <= 16 and exists(word, lst):\n",
        "        for start in ref[word[0]]:\n",
        "          if(self.dfs(word, start, adjlist, [start], 1, board)):\n",
        "            result.append(word)\n",
        "            break\n",
        "    return result\n"
      ],
      "metadata": {
        "id": "evQruf96TK1A"
      },
      "execution_count": null,
      "outputs": []
    },
    {
      "cell_type": "markdown",
      "source": [
        "# Testing Begins!"
      ],
      "metadata": {
        "id": "RRKSl8a9GWbV"
      }
    },
    {
      "cell_type": "code",
      "source": [
        "\n",
        "tester = [['A','N','T','E'], ['E','T','A','A'], ['R','D','N','N'], ['L','L','E','K']]"
      ],
      "metadata": {
        "id": "mjlDHyzbVki1"
      },
      "execution_count": null,
      "outputs": []
    },
    {
      "cell_type": "code",
      "source": [
        "dictionary = Dictionary(\"dictionary.txt\",10000)"
      ],
      "metadata": {
        "id": "Rz-8XChF-zAv"
      },
      "execution_count": null,
      "outputs": []
    },
    {
      "cell_type": "code",
      "source": [
        "lm = LanguageModel(3, \"dictionary.txt\")\n",
        "albert = Albert(lm.model, 3)"
      ],
      "metadata": {
        "id": "t4CxuO3kSQud"
      },
      "execution_count": null,
      "outputs": []
    },
    {
      "cell_type": "code",
      "source": [
        "tic = time.perf_counter()\n",
        "result = albert.solve(tester)\n",
        "result = sorted(result, key = len, reverse = True)\n",
        "print(len(result))\n",
        "result = validate(dictionary, result)\n",
        "toc = time.perf_counter()\n",
        "print(toc - tic)\n",
        "result = sorted(result, key = len, reverse = True)\n",
        "print(result)\n",
        "print(len(result))"
      ],
      "metadata": {
        "colab": {
          "base_uri": "https://localhost:8080/"
        },
        "id": "iZlroFIi8_dP",
        "outputId": "73ec9210-3fbd-472a-942b-96ea1f97e987"
      },
      "execution_count": null,
      "outputs": [
        {
          "output_type": "stream",
          "name": "stdout",
          "text": [
            "8606\n",
            "0.8046062280000115\n",
            "['ANDANTE', 'TANNATE', 'DENTATE', 'ENTENTE', 'TANNED', 'LENDER', 'LENTEN', 'NATTER', 'NATANT', 'REATA', 'ANTED', 'TATER', 'EATER', 'ENDER', 'DATER', 'ENATE', 'ENTER', 'EATEN', 'ANTRE', 'KENTE', 'RENTE', 'RENT', 'DEAN', 'DELL', 'TENT', 'REDE', 'LENT', 'KENT', 'DATA', 'TATE', 'ANTE', 'ANTA', 'DATE', 'DENT', 'ANNA', 'LEND', 'NANA', 'NAN', 'ANE', 'ELL', 'KEN', 'TED', 'DAN', 'RET', 'ETA', 'TEN', 'ANT', 'AND', 'LED', 'ANA', 'DEL', 'DEN', 'ATE', 'TAN', 'RED', 'NET', 'END']\n",
            "57\n"
          ]
        }
      ]
    },
    {
      "cell_type": "code",
      "source": [
        "alexei = Alexei(\"dictionary.txt\", 3,10000, 0.3, 0.3)"
      ],
      "metadata": {
        "id": "DB1i-3pNe2Qh"
      },
      "execution_count": null,
      "outputs": []
    },
    {
      "cell_type": "code",
      "source": [
        "tic = time.perf_counter()\n",
        "result = alexei.solve(tester)\n",
        "result = sorted(result, key = len, reverse = True)\n",
        "print(len(result))\n",
        "result = validate(dictionary, result)\n",
        "toc = time.perf_counter()\n",
        "print(toc - tic)\n",
        "result = sorted(result, key = len, reverse = True)\n",
        "print(result)\n",
        "print(len(result))"
      ],
      "metadata": {
        "colab": {
          "base_uri": "https://localhost:8080/"
        },
        "id": "T9u5Bl-PfEvr",
        "outputId": "874162a8-da43-4837-cf08-3676c172d678"
      },
      "execution_count": null,
      "outputs": [
        {
          "output_type": "stream",
          "name": "stdout",
          "text": [
            "3290\n",
            "0.22196086899930378\n",
            "['ANTEATER', 'ANTEDATE', 'ANDANTE', 'TANNATE', 'DENTATE', 'ENTENTE', 'REDATE', 'LENDER', 'LENTEN', 'TANKED', 'TANNED', 'NATTER', 'NATANT', 'TEATED', 'ENTER', 'REATA', 'ELDER', 'ANTED', 'TATER', 'EATEN', 'ANTRE', 'EATER', 'ENDER', 'KNELL', 'DATER', 'ANENT', 'KENTE', 'ENATE', 'RENTE', 'REDAN', 'ANTAE', 'RENT', 'DEAN', 'KENT', 'TATE', 'ANTE', 'ANTA', 'DATE', 'NERD', 'DELL', 'DANK', 'DENT', 'TANK', 'ANNA', 'TENT', 'REDE', 'LEND', 'LENT', 'NAN', 'TAT', 'ANE', 'ELL', 'KEN', 'NAE', 'TED', 'DAN', 'DEN', 'RET', 'ETA', 'ATE', 'TEN', 'ELD', 'TAD', 'TAN', 'ANT', 'EAT', 'AND', 'LED', 'ANA', 'RED', 'NET', 'END', 'DEL']\n",
            "73\n"
          ]
        }
      ]
    },
    {
      "cell_type": "code",
      "source": [
        "isaac = Isaac(dictionary)"
      ],
      "metadata": {
        "id": "8y-59NsNSW2m"
      },
      "execution_count": null,
      "outputs": []
    },
    {
      "cell_type": "code",
      "source": [
        "boards = generate_random_boards(500, 4,4)\n",
        "#print(boards)\n",
        "#albert.train(boards, isaac)\n",
        "# print(albert.p)"
      ],
      "metadata": {
        "id": "1StkdjqxORfa"
      },
      "execution_count": null,
      "outputs": []
    },
    {
      "cell_type": "code",
      "source": [
        "tic = time.perf_counter()\n",
        "result = isaac.solve(tester)\n",
        "result = sorted(result, key = len, reverse = True)\n",
        "print(len(result))\n",
        "result = validate(dictionary, result)\n",
        "toc = time.perf_counter()\n",
        "print(toc - tic)\n",
        "result = sorted(result, key = len, reverse = True)\n",
        "print(result)\n",
        "print(len(result))"
      ],
      "metadata": {
        "colab": {
          "base_uri": "https://localhost:8080/"
        },
        "id": "KuGsQtga6NvA",
        "outputId": "78c871b7-ff8d-4601-82f2-e555dd008531"
      },
      "execution_count": null,
      "outputs": [
        {
          "output_type": "stream",
          "name": "stdout",
          "text": [
            "87\n",
            "0.4502996749997692\n",
            "['ANTEATER', 'ANTEDATE', 'EDENTATE', 'ANDANTE', 'DENTATE', 'ENTENTE', 'TANNATE', 'ADNATE', 'ANANKE', 'LENDER', 'LENTEN', 'NATANT', 'NATTER', 'REDATE', 'TANKED', 'TANNED', 'TEATED', 'ANENT', 'ANTAE', 'ANTED', 'ANTRE', 'DATER', 'EATEN', 'EATER', 'ELDER', 'ENATE', 'ENDER', 'ENTER', 'KENTE', 'KNELL', 'REATA', 'REDAN', 'RENTE', 'TATER', 'ANNA', 'ANTA', 'ANTE', 'DANK', 'DATA', 'DATE', 'DEAN', 'DELL', 'DENT', 'ETNA', 'KENT', 'LEND', 'LENT', 'NAAN', 'NANA', 'NEAT', 'NERD', 'NETT', 'REDE', 'RENT', 'TANK', 'TATE', 'TEAT', 'TENT', 'ANA', 'AND', 'ANE', 'ANT', 'ATE', 'ATT', 'DAN', 'DEL', 'DEN', 'EAT', 'ELD', 'ELL', 'END', 'ETA', 'KEN', 'LED', 'LEK', 'NAE', 'NAN', 'NET', 'RED', 'RET', 'TAD', 'TAE', 'TAN', 'TAT', 'TEA', 'TED', 'TEN']\n",
            "87\n"
          ]
        }
      ]
    },
    {
      "cell_type": "markdown",
      "source": [
        "# MASS TESTING\n",
        "The idea here is we're going to generate a bunch of random boards and solve each one. We will first evaluate on a few easy metrics that we have already looked at previously\n",
        "\n",
        "\n",
        "1.   Number Correct/Number Total\n",
        "2.   Number Correct/Number Generated\n",
        "3.   Time to Generate\n",
        "\n"
      ],
      "metadata": {
        "id": "RAv2cEfyhrax"
      }
    },
    {
      "cell_type": "code",
      "source": [
        "def get_score(wordlist):\n",
        "  score = 0\n",
        "  for word in wordlist:\n",
        "    length = len(word)\n",
        "    if (length == 3):\n",
        "      score += 100\n",
        "    elif (length == 4):\n",
        "      score += 400\n",
        "    elif (length == 5):\n",
        "      score += 800\n",
        "    elif (length == 6):\n",
        "      score += 1400\n",
        "    else:\n",
        "      score += 1400 + 400*(length - 6) \n",
        "  return score"
      ],
      "metadata": {
        "id": "_g4SUq_jqK4F"
      },
      "execution_count": null,
      "outputs": []
    },
    {
      "cell_type": "code",
      "source": [
        "def words_per_length(saved, input):\n",
        "  for item in input:\n",
        "    saved[len(item)] +=1 \n",
        "  return saved"
      ],
      "metadata": {
        "id": "qYCkExKaBHd9"
      },
      "execution_count": null,
      "outputs": []
    },
    {
      "cell_type": "code",
      "source": [
        "def test(batch, n):\n",
        "  #summary statistics of albert\n",
        "  albert_precision = 0\n",
        "  albert_acc = 0\n",
        "  albert_time = 0\n",
        "  albert_score = 0\n",
        "  #summary statistics of alexei\n",
        "  alexei_precision = 0\n",
        "  alexei_acc = 0\n",
        "  alexei_time = 0\n",
        "  alexei_score = 0\n",
        "  #summary statistics of isaac\n",
        "  isaac_precision = 1\n",
        "  isaac_acc = 1\n",
        "  isaac_time = 0 \n",
        "  isaac_score = 0\n",
        "  generated = defaultdict(lambda: 0)\n",
        "  for board in batch:\n",
        "    \n",
        "    #TESTING FOR ISAAC - OUR CONTROL SOLUTION\n",
        "    tic = time.perf_counter()\n",
        "    isaac_res = isaac.solve(board)\n",
        "    toc = time.perf_counter()\n",
        "    isaac_time += (toc - tic)\n",
        "    isaac_score += get_score(isaac_res)\n",
        "    refsol = len(isaac_res)\n",
        "\n",
        "    \n",
        "    #TESTING FOR ALBERT - OUR FIRST VERSION\n",
        "    tic = time.perf_counter()\n",
        "    albert_res = albert.solve(board)\n",
        "    tot_albert = len(albert_res)\n",
        "    albert_res = validate(dictionary, albert_res)\n",
        "    red_albert = len(albert_res)\n",
        "    toc = time.perf_counter()\n",
        "    albert_time += (toc - tic)\n",
        "    albert_precision += red_albert/tot_albert\n",
        "    albert_acc += red_albert/refsol\n",
        "    albert_score += get_score(albert_res)\n",
        "    \n",
        "\n",
        "    #TESTING FOR ALEXEI - OUR SECOND VERSION\n",
        "    tic = time.perf_counter()\n",
        "    alexei_res = alexei.solve(board)\n",
        "    tot_alexei = len(alexei_res)\n",
        "    #print(tot_alexei)\n",
        "    generated = words_per_length(generated, alexei_res)\n",
        "    alexei_res = validate(dictionary, alexei_res)\n",
        "    red_alexei = len(alexei_res)\n",
        "    toc = time.perf_counter()\n",
        "    alexei_time += (toc - tic)\n",
        "    alexei_precision += red_alexei/tot_alexei\n",
        "    alexei_acc += red_alexei/refsol\n",
        "    alexei_score += get_score(alexei_res)\n",
        "  \n",
        "  #printing the final statistics\n",
        "  print(\"FINAL SUMMARY STATISTICS\")\n",
        "  print(\"########################\")\n",
        "  print(\"ISAAC REFERENCE STATISTICS\")\n",
        "  print(\"ISAAC NUMBER CORRECT/NUMBER TOTAL: {}\".format(isaac_precision))\n",
        "  print(\"ISAAC NUMBER CORRECT/NUMBER GENERATED: {}\".format(isaac_acc))\n",
        "  print(\"ISAAC AVERAGE SCORE: {}\".format(isaac_score/n))\n",
        "  print(\"ISAAC AVERAGE TIME TO SOLVE: {}\".format(isaac_time/n))\n",
        "  print(\"~~~~~~~~~~~~~~~~~~~~~~~~~~~\")\n",
        "  print(\"ALBERT REFERENCE STATISTICS\")\n",
        "  print(\"ALBERT NUMBER CORRECT/NUMBER TOTAL: {}\".format(albert_precision/n))\n",
        "  print(\"ALBERT NUMBER CORRECT/NUMBER GENERATED: {}\".format(albert_acc/n))\n",
        "  print(\"ALBERT AVERAGE SCORE: {}\".format(albert_score/n))\n",
        "  print(\"ALBERT AVERAGE TIME TO SOLVE: {}\".format(albert_time/n))\n",
        "  print(\"~~~~~~~~~~~~~~~~~~~~~~~~~~~\")\n",
        "  \n",
        "  print(\"ALEXEI REFERENCE STATISTICS\")\n",
        "  print(\"ALEXEI NUMBER CORRECT/NUMBER TOTAL: {}\".format(alexei_precision/n))\n",
        "  print(\"ALEXEI NUMBER CORRECT/NUMBER GENERATED: {}\".format(alexei_acc/n))\n",
        "  print(\"ALEXEI AVERAGE SCORE: {}\".format(alexei_score/n))\n",
        "  print(\"ALEXEI AVERAGE TIME TO SOLVE: {}\".format(alexei_time/n))\n",
        "\n",
        "\n",
        "\n",
        "\n"
      ],
      "metadata": {
        "id": "Gspg4MZbiTv_"
      },
      "execution_count": null,
      "outputs": []
    },
    {
      "cell_type": "code",
      "source": [
        "alexei_stats_rt = dict()\n",
        "alexei_stats_rc = dict()\n",
        "batch = generate_random_boards(500,4,4)\n",
        "alexei = Alexei(\"dictionary.txt\", 3,10000,0,2.5)\n",
        "\n",
        "test(batch, 500)"
      ],
      "metadata": {
        "colab": {
          "base_uri": "https://localhost:8080/"
        },
        "id": "rkU1aoklk2H9",
        "outputId": "df07dd29-6aa8-4376-e39e-637f71e0080a"
      },
      "execution_count": null,
      "outputs": [
        {
          "output_type": "stream",
          "name": "stdout",
          "text": [
            "FINAL SUMMARY STATISTICS\n",
            "########################\n",
            "ISAAC REFERENCE STATISTICS\n",
            "ISAAC NUMBER CORRECT/NUMBER TOTAL: 1\n",
            "ISAAC NUMBER CORRECT/NUMBER GENERATED: 1\n",
            "ISAAC AVERAGE SCORE: 58540.4\n",
            "ISAAC AVERAGE TIME TO SOLVE: 0.39300642685399273\n",
            "~~~~~~~~~~~~~~~~~~~~~~~~~~~\n",
            "ALBERT REFERENCE STATISTICS\n",
            "ALBERT NUMBER CORRECT/NUMBER TOTAL: 0.06457007462791858\n",
            "ALBERT NUMBER CORRECT/NUMBER GENERATED: 0.4600438647501498\n",
            "ALBERT AVERAGE SCORE: 28470.0\n",
            "ALBERT AVERAGE TIME TO SOLVE: 0.14499557370596175\n",
            "~~~~~~~~~~~~~~~~~~~~~~~~~~~\n",
            "ALEXEI REFERENCE STATISTICS\n",
            "ALEXEI NUMBER CORRECT/NUMBER TOTAL: 0.05925576608238614\n",
            "ALEXEI NUMBER CORRECT/NUMBER GENERATED: 0.8992711506589818\n",
            "ALEXEI AVERAGE SCORE: 51621.4\n",
            "ALEXEI AVERAGE TIME TO SOLVE: 0.1336811253220094\n"
          ]
        }
      ]
    },
    {
      "cell_type": "code",
      "source": [
        "def distribution_test(n):\n",
        "  isaacdist = defaultdict(lambda: 0)\n",
        "  albertdist = defaultdict(lambda: 0)\n",
        "  alexeidist = defaultdict(lambda: 0)\n",
        "  total = 0\n",
        "\n",
        "  batch = generate_random_boards(n,4,4)\n",
        "  for board in batch:\n",
        "    refsol = isaac.solve(board)\n",
        "    albertsol = albert.solve(board)\n",
        "    albertsol = validate(dictionary, albertsol)\n",
        "    alexeisol = alexei.solve(board)\n",
        "    alexeisol = validate(dictionary, alexeisol)\n",
        "    #getting distribution for the solutions\n",
        "    for i in range(len(refsol)):\n",
        "      isaacdist[len(refsol[i])] += 1\n",
        "      total += 1\n",
        "    #getting distributions for albert\n",
        "    for i in range(len(albertsol)):\n",
        "      albertdist[len(albertsol[i])] += 1\n",
        "    #getting distributions for alexei    \n",
        "    for i in range(len(alexeisol)):\n",
        "      alexeidist[len(alexeisol[i])] += 1\n",
        "  \n",
        "  print(\"DISTRIBUTION STATISTICS\")\n",
        "  print(\"#######################\")\n",
        "  for length, found in isaacdist.items():\n",
        "    albertpercent = albertdist[length]/found\n",
        "    alexeipercent = alexeidist[length]/found\n",
        "    totaldist = found/total\n",
        "    print(\"OF LENGTH {}: ALBERT - {}%\\tALEXEI - {}%\\tTOTAL DISTRIBUTION -  {}%\".format(length, albertpercent, alexeipercent, totaldist))\n"
      ],
      "metadata": {
        "id": "bTwNRTnZNH1R"
      },
      "execution_count": null,
      "outputs": []
    },
    {
      "cell_type": "code",
      "source": [
        "distribution_test(500)"
      ],
      "metadata": {
        "colab": {
          "base_uri": "https://localhost:8080/"
        },
        "id": "uEg3eo_wSdL-",
        "outputId": "c11407ca-68e3-4ab2-b7a4-4073eab0ba28"
      },
      "execution_count": null,
      "outputs": [
        {
          "output_type": "stream",
          "name": "stdout",
          "text": [
            "DISTRIBUTION STATISTICS\n",
            "#######################\n",
            "OF LENGTH 3: ALBERT - 0.4496613535672455%\tALEXEI - 0.8932117940622295%\tTOTAL DISTRIBUTION -  0.32927544980465145%\n",
            "OF LENGTH 4: ALBERT - 0.4875052352366327%\tALEXEI - 0.8652333752152264%\tTOTAL DISTRIBUTION -  0.3603299964786961%\n",
            "OF LENGTH 5: ALBERT - 0.5096955264500765%\tALEXEI - 0.8522707943527811%\tTOTAL DISTRIBUTION -  0.1971594815299227%\n",
            "OF LENGTH 6: ALBERT - 0.4896341463414634%\tALEXEI - 0.8443089430894309%\tTOTAL DISTRIBUTION -  0.08249911967402787%\n",
            "OF LENGTH 7: ALBERT - 0.460231135282121%\tALEXEI - 0.8477226376614548%\tTOTAL DISTRIBUTION -  0.02466589533343394%\n",
            "OF LENGTH 8: ALBERT - 0.43670886075949367%\tALEXEI - 0.810126582278481%\tTOTAL DISTRIBUTION -  0.0052987239465432535%\n",
            "OF LENGTH 10: ALBERT - 0.6666666666666666%\tALEXEI - 0.6666666666666666%\tTOTAL DISTRIBUTION -  0.00010060868252930228%\n",
            "OF LENGTH 9: ALBERT - 0.35%\tALEXEI - 0.775%\tTOTAL DISTRIBUTION -  0.0006707245501953485%\n"
          ]
        }
      ]
    },
    {
      "cell_type": "markdown",
      "source": [
        "# Exploring Distributions"
      ],
      "metadata": {
        "id": "bfVImA_dmW8W"
      }
    },
    {
      "cell_type": "markdown",
      "source": [
        "I explore the relationship between probability and word length here."
      ],
      "metadata": {
        "id": "5P4lUbuwhbrm"
      }
    },
    {
      "cell_type": "code",
      "source": [
        "from matplotlib import pyplot as plt\n",
        "import numpy as np\n",
        "#idk what this is but im gonna try it\n",
        "def calculate_logprob(word, n):\n",
        "  word = \"0\" + word + \"\\n\"\n",
        "  result = 0\n",
        "  for i in range(len(word) - (n-1)):\n",
        "    if(word[i:i+n] in lm.model):\n",
        "      result += math.log(lm.model[word[i:i+n]])\n",
        "  return result\n",
        "\n",
        "temp = defaultdict(lambda: list())\n",
        "result = dict()\n",
        "for word in dictionary.listed:\n",
        "  if (len(word) > 4):\n",
        "    temp[len(word)].append(calculate_logprob(word[:5], 3))\n",
        "\n",
        "for length,probabilities in temp.items():\n",
        "    result[length] = sum(probabilities)/len(probabilities)\n",
        "baseline = result[5]\n",
        "for length, probabilities in temp.items():\n",
        "    data = np.array(probabilities)\n",
        "    normalized = (np.average(probabilities) - baseline)/(np.std(probabilities))\n",
        "    print(normalized)\n",
        "    result[length] = normalized\n",
        "    \n",
        "print(result)\n",
        "\n",
        "\n",
        "\n",
        "  \n"
      ],
      "metadata": {
        "colab": {
          "base_uri": "https://localhost:8080/"
        },
        "id": "vEbnyPOWICSv",
        "outputId": "17910d7d-4580-45a4-851b-d552e381c12f"
      },
      "execution_count": null,
      "outputs": [
        {
          "output_type": "stream",
          "name": "stdout",
          "text": [
            "-1.9076665321879158e-14\n",
            "-0.4070092510348233\n",
            "-0.40128288293674175\n",
            "-0.28599092893476197\n",
            "-0.19768034901877352\n",
            "-0.5737234292063061\n",
            "-0.14560630539897973\n",
            "-0.03961992469762816\n",
            "-0.005064031017177949\n",
            "0.02230557732163934\n",
            "0.05786176244881148\n",
            "{5: -1.9076665321879158e-14, 6: -0.4070092510348233, 8: -0.40128288293674175, 9: -0.28599092893476197, 10: -0.19768034901877352, 7: -0.5737234292063061, 11: -0.14560630539897973, 12: -0.03961992469762816, 13: -0.005064031017177949, 14: 0.02230557732163934, 15: 0.05786176244881148}\n"
          ]
        }
      ]
    },
    {
      "cell_type": "code",
      "source": [
        "\n",
        "\n",
        "lists = sorted(result.items()) # sorted by key, return a list of tuples\n",
        "\n",
        "x, y = zip(*lists) # unpack a list of pairs into two tuples\n",
        "\n",
        "plt.plot(x, y)\n",
        "plt.show()"
      ],
      "metadata": {
        "colab": {
          "base_uri": "https://localhost:8080/",
          "height": 265
        },
        "id": "ENF6xVL9LisP",
        "outputId": "77afdd49-bfe7-4b78-f98e-479b0dac90de"
      },
      "execution_count": null,
      "outputs": [
        {
          "output_type": "display_data",
          "data": {
            "text/plain": [
              "<Figure size 432x288 with 1 Axes>"
            ],
            "image/png": "[encoded data removed]"
          },
          "metadata": {
            "needs_background": "light"
          }
        }
      ]
    }
  ]
}