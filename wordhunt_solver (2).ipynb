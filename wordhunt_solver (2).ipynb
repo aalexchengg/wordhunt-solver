{
  "nbformat": 4,
  "nbformat_minor": 0,
  "metadata": {
    "colab": {
      "provenance": []
    },
    "kernelspec": {
      "name": "python3",
      "display_name": "Python 3"
    },
    "language_info": {
      "name": "python"
    }
  },
  "cells": [
    {
      "cell_type": "code",
      "execution_count": null,
      "metadata": {
        "id": "Su3zW5IEm3P2"
      },
      "outputs": [],
      "source": [
        "from collections import Counter\n",
        "from itertools import product\n",
        "import math\n",
        "import io\n",
        "import os\n",
        "import time\n",
        "import random"
      ]
    },
    {
      "cell_type": "code",
      "source": [
        "#PREPROCESSING\n",
        "def get_ngrams(path, n):\n",
        "  result = []\n",
        "  with open(path) as input:\n",
        "    for line in input:\n",
        "      if(len(line)<3 or len(line)>16):\n",
        "        continue\n",
        "      line = \"0\" + line\n",
        "      for i in range(len(line) - (n-1)):\n",
        "        result.append((line[i:i+n]))\n",
        "  return result\n",
        "\n",
        "get_ngrams(\"tester.txt\", 3)\n",
        "\n",
        "\n",
        "def post_process(input):\n",
        "  result = []\n",
        "  for value in input:\n",
        "    result.append(value[1:-1])\n",
        "  return result"
      ],
      "metadata": {
        "id": "ZUTujwufng2m"
      },
      "execution_count": null,
      "outputs": []
    },
    {
      "cell_type": "code",
      "source": [
        "#HELPER FUNCTIONS\n",
        "\n",
        "#turns a 2d matrix into an adjacency list of indeces\n",
        "def board_to_adjlist(board):\n",
        "    result = dict()\n",
        "    for i in range(len(board)):\n",
        "        for j in range(len(board[0])):\n",
        "            idx = (i,j)\n",
        "            neighbors = []\n",
        "            for x in range(-1,2):\n",
        "                for y in range(-1,2):\n",
        "                    if(not(x == 0 and y ==0)):\n",
        "                        if(x + i >=0 and y + j >=0 and x + i < len(board) and y + j < len(board[0])):\n",
        "                            neighbors.append((i+x,j+y))\n",
        "            result[idx] = neighbors\n",
        "    return result\n",
        "\n",
        "#turns a 2d matrix into a list of characters\n",
        "def board_to_list(board):\n",
        "  result = []\n",
        "  for row in board:\n",
        "    result = result + row\n",
        "  result.sort()\n",
        "  return result\n",
        "\n",
        "def board_to_dict(board):\n",
        "  result = dict()\n",
        "  for i in range(len(board)):\n",
        "    for j in range(len(board[0])):\n",
        "      if(board[i][j] not in result):\n",
        "        result[board[i][j]] = [(i,j)]\n",
        "      else:\n",
        "        result[board[i][j]].append((i,j))\n",
        "  return result\n",
        "\n",
        "def exists(word, chars):\n",
        "  #REQUIRES: char is sorted\n",
        "  word = list(word)\n",
        "  word.sort()\n",
        "  curr = 0\n",
        "  i = 0\n",
        "  length = len(chars)\n",
        "  goal = len(word)\n",
        "  while(i < length):\n",
        "    if(curr == goal):\n",
        "      return True\n",
        "    if(word[curr] == chars[i]):\n",
        "      curr +=1\n",
        "    elif(word[curr] < chars[i]):\n",
        "      return False\n",
        "    i +=1\n",
        "  return curr == goal \n",
        "\n",
        "def validate(dictionary, result):\n",
        "  res = []\n",
        "  for word in result:\n",
        "    if(dictionary.get_word(word)):\n",
        "      res.append(word)\n",
        "  return res \n",
        "\n",
        "## CODE FOR TESTING ##\n",
        "\n",
        "# prepares the dict of letters to scrabble freqs that we use in the next function\n",
        "def generate_scrabble_freqs():\n",
        "  scrabble_freqs = {\n",
        "      'e': 12.49,\n",
        "      't':  9.28,\n",
        "      'a':  8.04,\n",
        "      'o':  7.64,\n",
        "      'i':  7.57,\n",
        "      'n':  7.23,\n",
        "      's':  6.51,\n",
        "      'r':  6.28,\n",
        "      'h':  5.05,\n",
        "      'l':  4.07,\n",
        "      'd':  3.82,\n",
        "      'c':  3.34,\n",
        "      'u':  2.73,\n",
        "      'm':  2.51,\n",
        "      'f':  2.40,\n",
        "      'p':  2.14,\n",
        "      'g':  1.87,\n",
        "      'w':  1.68,\n",
        "      'y':  1.66,\n",
        "      'b':  1.48,\n",
        "      'v':  1.05,\n",
        "      'k':  0.54,\n",
        "      'x':  0.23,\n",
        "      'j':  0.16,\n",
        "      'q':  0.12,\n",
        "      'z':  0.09\n",
        "  }\n",
        "  scrabble_freqs = dict(sorted(scrabble_freqs.items(), key=lambda x:x[1]))\n",
        "  index = -1\n",
        "  preventry = \"\"\n",
        "  for entry in scrabble_freqs:\n",
        "    scrabble_freqs[entry[0]] = round(scrabble_freqs[entry[0]] * 100)\n",
        "    # if the previous entry exists, add it to the current entry\n",
        "    if(index >= 0):\n",
        "      scrabble_freqs[entry[0]] = scrabble_freqs[entry[0]] + scrabble_freqs[preventry]\n",
        "    index += 1\n",
        "    preventry = entry[0]\n",
        "  return scrabble_freqs\n",
        "\n",
        "#generates number_of_boards boards with dimensions x by y\n",
        "def generate_random_boards(number_of_boards, x, y):\n",
        "  letter_freqs = generate_scrabble_freqs()\n",
        "  boards = []\n",
        "  for i in range(number_of_boards):\n",
        "    boards.append([[0]*y for i in range(x)])\n",
        "    # fill up the board w/random letters\n",
        "    for j in range(x):\n",
        "      for k in range(y):\n",
        "        # generate random letter\n",
        "        seed = random.randint(0,9998)\n",
        "        letter = ''\n",
        "        for l in letter_freqs:\n",
        "          if(seed <= letter_freqs[l]):\n",
        "            letter = l\n",
        "            break\n",
        "        assert(letter != '')\n",
        "        boards[i][j][k] = letter.upper()\n",
        "  return boards\n",
        "\n",
        "def precision(sols, ref_sols):\n",
        "  prec = 0\n",
        "  for word in sols:\n",
        "    if(word in ref_sols):\n",
        "      prec += 1\n",
        "  return prec/len(sols)\n",
        "\n",
        "def recall(sols, ref_sols):\n",
        "  rec = 0\n",
        "  for word in ref_sols:\n",
        "    if(word in sols):\n",
        "      rec += 1\n",
        "  return rec/len(ref_sols)"
      ],
      "metadata": {
        "id": "f6In1_lC07Gj"
      },
      "execution_count": null,
      "outputs": []
    },
    {
      "cell_type": "code",
      "source": [
        "generate_random_boards(2,4,4)"
      ],
      "metadata": {
        "colab": {
          "base_uri": "https://localhost:8080/"
        },
        "id": "k2SbTi9gmExW",
        "outputId": "e7f36b7a-fc01-482b-d8b2-ecc596ba4567"
      },
      "execution_count": null,
      "outputs": [
        {
          "output_type": "execute_result",
          "data": {
            "text/plain": [
              "[[['D', 'C', 'H', 'E'],\n",
              "  ['S', 'N', 'N', 'A'],\n",
              "  ['T', 'T', 'C', 'I'],\n",
              "  ['D', 'R', 'H', 'D']],\n",
              " [['L', 'U', 'N', 'R'],\n",
              "  ['T', 'A', 'C', 'W'],\n",
              "  ['T', 'T', 'T', 'T'],\n",
              "  ['T', 'O', 'I', 'L']]]"
            ]
          },
          "metadata": {},
          "execution_count": 10
        }
      ]
    },
    {
      "cell_type": "markdown",
      "source": [
        "# Building a Literal Hash Dictionary"
      ],
      "metadata": {
        "id": "J0OOoly0Gvxv"
      }
    },
    {
      "cell_type": "code",
      "source": [
        "class Dictionary():\n",
        "  def __init__(self, path, size):\n",
        "    self.size = size\n",
        "    self.book = self.build(path, size)\n",
        "    self.listed = self.to_list(path)\n",
        "  \n",
        "  def build(self, path, size):\n",
        "    result = dict()\n",
        "    with open(path) as input:\n",
        "      for line in input:\n",
        "        line = line[:-1]\n",
        "        num = hash(line) % size\n",
        "        if num in result:\n",
        "          result[num].append(line)\n",
        "        else:\n",
        "          result[num] = [line]\n",
        "    return result\n",
        "  \n",
        "  def to_list(self, path):\n",
        "    result = []\n",
        "    with open(path) as input:\n",
        "      for line in input:\n",
        "        result.append(line[:-1])\n",
        "    return result\n",
        "\n",
        "  def get_word(self, word):\n",
        "    num = hash(word) % self.size\n",
        "    return (num in self.book and word in self.book[num])\n",
        "  \n",
        "\n",
        "\n",
        "\n",
        "\n"
      ],
      "metadata": {
        "id": "ck0725JYObW-"
      },
      "execution_count": null,
      "outputs": []
    },
    {
      "cell_type": "markdown",
      "source": [
        "# Building Our N-Gram Language Model"
      ],
      "metadata": {
        "id": "SXL7xTibGoqh"
      }
    },
    {
      "cell_type": "code",
      "source": [
        "class LanguageModel():\n",
        "    def __init__(self, n, train_data, alpha=1):\n",
        "        \"\"\"\n",
        "        Language model class.\n",
        "        \n",
        "        Args\n",
        "        ____\n",
        "        n: int\n",
        "            n-gram order\n",
        "        train_data: List[List]\n",
        "            list of words in the dictionary that have not been preprocessed yet\n",
        "        alpha: float\n",
        "            Smoothing parameter\n",
        "        \n",
        "        Other required parameters:\n",
        "            self.vocab: vocabulary dict with counts\n",
        "            self.model: n-gram language model, i.e., n-gram dict with probabilties\n",
        "            self.n_grams_counts: Frequency count for each of the n-grams present in the training data\n",
        "            self.prefix_counts: Frequency count of all the corresponding n-1 grams present in the training data\n",
        "        \"\"\"\n",
        "        self.n = n\n",
        "        self.train_data = train_data\n",
        "        self.tokens = self.train_data\n",
        "        self.n_grams_counts = None\n",
        "        self.prefix_counts = None\n",
        "        self.vocab  = Counter(self.tokens)\n",
        "        self.alpha = alpha\n",
        "        self.model = self.build()\n",
        "\n",
        "    def get_smooth_probabilities(self,n_gram):\n",
        "      vocab_size = len(self.vocab)\n",
        "      ngram_sum = self.n_grams_counts[n_gram]\n",
        "\n",
        "      prefix_sum = len(self.tokens)\n",
        "      if(self.n>1):\n",
        "        prefix_sum = self.prefix_counts[n_gram[0:self.n-1]]\n",
        "        \n",
        "        \n",
        "\n",
        "      return (ngram_sum + self.alpha)/(prefix_sum + self.alpha*vocab_size)\n",
        "\n",
        "\n",
        "      #Returns the smoothed probability of a single ngram, using Laplace Smoothing. Remember to handle the special case of n=1\n",
        "      #Use the class variables we defined in the build function. It is suggested to implement the build function before this one.\n",
        "\n",
        "    \n",
        "    #TODO:\n",
        "    def build(self):\n",
        "        \n",
        "        #Returns a n-gram (could be a unigram) dict with n-gram tuples as keys and probabilities as values. \n",
        "        #It could be a unigram model as well\n",
        "        ngrams = get_ngrams(self.train_data,n=self.n)\n",
        "        prefix_ngrams = get_ngrams(self.train_data,n = self.n-1)\n",
        "\n",
        "        self.n_grams_counts = Counter(ngrams)\n",
        "        self.prefix_counts = Counter(prefix_ngrams)\n",
        "\n",
        "        prob = dict()\n",
        "        for n_gram in self.n_grams_counts:\n",
        "          prob[n_gram] = self.get_smooth_probabilities(n_gram)\n",
        "\n",
        "        return prob"
      ],
      "metadata": {
        "id": "-YS-RbLznc5v"
      },
      "execution_count": null,
      "outputs": []
    },
    {
      "cell_type": "markdown",
      "source": [
        "# Albert: N-Gram Language Model-Based Solver"
      ],
      "metadata": {
        "id": "pqlS4eMWGh8H"
      }
    },
    {
      "cell_type": "code",
      "source": [
        "class Albert():\n",
        "  def __init__(self, model,n):\n",
        "    # I want to pass in a naive bayes n-gram model here.\n",
        "    #the probability \"p\" is the parameter we want to train\n",
        "    self.model = model\n",
        "    self.p = 0.03\n",
        "    self.n = n\n",
        "  \n",
        "  def check_probability(self, path, next):\n",
        "    candidate = path[-(self.n-1):] + next\n",
        "    return (candidate in self.model and self.model[candidate] >= self.p)\n",
        "  \n",
        "\n",
        "  def bfs(self, tile, adjlist, board, path, result, visited):\n",
        "    #INPUT\n",
        "    #tile : the root tile that we are starting from\n",
        "    #adjlist : adjacency list of our graph\n",
        "    #board : 2d matrix of our graph so accessing is easier\n",
        "    #path : the current accumulated letters for our words\n",
        "    #pathprob : should we add the log probability of the current path? will do it on second try\n",
        "    #result : the resulting set from the past\n",
        "    #visited : the tiles that we have already visited\n",
        "\n",
        "    #OUTPUT\n",
        "    #result : the resulting set after conducting bfs\n",
        "\n",
        "    #check if current path is a word\n",
        "    if(len(path)>3 and self.check_probability(path, \"\\n\")):\n",
        "      result.add(path + \"\\n\")\n",
        "\n",
        "    #check if extensions are a word\n",
        "    #for each neighbor\n",
        "    for neighbor in adjlist[tile]:\n",
        "        #if we haven't visited it yet, we do smth\n",
        "        #so if we've visited all the neighbors we just move on\n",
        "        if neighbor not in visited:\n",
        "            next = str(board[neighbor[0]][neighbor[1]])\n",
        "            #check probabilities\n",
        "            if(self.check_probability(path, next)):\n",
        "              new = path + next\n",
        "              temp = visited.copy()\n",
        "              temp.append(neighbor)\n",
        "              result = result | self.bfs(neighbor, adjlist, board, new, result, temp)\n",
        "    return result \n",
        "\n",
        "\n",
        "  def solve(self, board):\n",
        "      #INPUT\n",
        "      # board: a 2-d char array of n x n dimensions\n",
        "      # cutoff: the probability 0 < cutoff < 1, such that if the probability a character follows is lower than this cutoff we do not pursue this path\n",
        "\n",
        "      #OUTPUT\n",
        "      # result: a set of words found from the board\n",
        "\n",
        "      result = set()\n",
        "\n",
        "      #first, we want to make an adjacency list\n",
        "      adjlist = board_to_adjlist(board)\n",
        "      for tile in adjlist:\n",
        "        visited = [tile]\n",
        "        path = \"0\" + str(board[tile[0]][tile[1]])\n",
        "        found = self.bfs(tile, adjlist, board,path , set(), visited)\n",
        "        result = result | found\n",
        "         \n",
        "      return post_process(result)\n",
        "  \n",
        "  def train(self, boards, solutions):\n",
        "    #essentially, what we want to do here is solve each board\n",
        "    #its better to make our probability initially really small so that\n",
        "    #runtime isn't dogshit (it will take eons to run if we go through every single possible path)\n",
        "    #then our loss function will be p = p * log (wP/wR) (thinking about adding here, see which one does better), \n",
        "    # where wP is the weighted precision and wR is the weighted recall (this is based on wordhunt scores, eg 800 for 5 letter words)\n",
        "    #we keep going until we go through all the boards and solutions\n",
        "    #afterwards, print our final p-value to see where it ended up\n",
        "    return\n",
        "  \n",
        "\n",
        "  def evaluate(self, boards):\n",
        "    # boards: a list of boards (generated by the helper function generate_random_boards)\n",
        "    # this will contain a a row for every board; each row contains the precision, recall, and f1 of our solution against reference, in that order\n",
        "    summary_stats = []\n",
        "    epoch = 0\n",
        "    for board in boards:\n",
        "      print(\"epoch\", epoch, \":\\n\")\n",
        "      # TODO: FIX THE SYNTAX (ref_sol.solve is 100% not correct)\n",
        "      ref_sol = ref_sol.solve(board)\n",
        "      train_sol = self.solve(board)\n",
        "      # find precision, recall\n",
        "      prec = self.precision(train_sol, ref_sol)\n",
        "      rec = self.recall(train_sol, ref_sol)\n",
        "      f1 = (prec * rec)/(prec + rec)\n",
        "      print(\"Precision: \", prec, \"Recall: \", rec, \"F1\", f1)\n",
        "      summary_stats.append([prec, rec, f1])\n",
        "    return summary_stats"
      ],
      "metadata": {
        "id": "o_UOthuAT3C0"
      },
      "execution_count": null,
      "outputs": []
    },
    {
      "cell_type": "markdown",
      "source": [
        "# Alexei: Albert 2.0\n",
        "Alexei is also a n-gram based, model, but this time we will look at overall path probability, rather than localized n-gram probability."
      ],
      "metadata": {
        "id": "DFo04kN2b34V"
      }
    },
    {
      "cell_type": "code",
      "source": [
        "class Alexei():\n",
        "  def __init__(self, path , n, size):\n",
        "    # I want to pass in a naive bayes n-gram model here.\n",
        "    #the probability \"p\" is the parameter we want to train\n",
        "    lm = LanguageModel(n, path)\n",
        "    dictionary = Dictionary(path, size)\n",
        "    self.model = lm.model\n",
        "    self.p = self.find_cutoffs(dictionary.listed)\n",
        "    self.n = n\n",
        "  \n",
        "  def calculate_logprob(self, word, n):\n",
        "    word = \"0\" + word + \"\\n\"\n",
        "    result = 0\n",
        "    for i in range(len(word) - (n-1)):\n",
        "      result += math.log(self.model[word[i:i+n]])\n",
        "    return result\n",
        "  \n",
        "  def find_cutoffs(self, dictionary):\n",
        "    temp = dict()\n",
        "    result = dict()\n",
        "    for word in dictionary:\n",
        "      if (len(word) in temp):\n",
        "        temp[len(word)].append(self.calculate_logprob(word, 3))\n",
        "      else:\n",
        "        temp[len(word)] = [self.calculate_logprob(word, 3)]\n",
        "    for length,probabilities in temp.items():\n",
        "        result[length] = sum(probabilities)/len(probabilities)\n",
        "    return result\n",
        "  \n",
        "  def check_probability(self, path, pathprob, next):\n",
        "    length = len(path)\n",
        "    candidate = path[-(self.n-1):] + next\n",
        "    \n",
        "    if (candidate in self.model):\n",
        "      nextprob = math.log(self.model[candidate])\n",
        "      if (length == 2 or pathprob + nextprob >= self.p[length-1]):\n",
        "        return nextprob\n",
        "    return 0\n",
        "  \n",
        "\n",
        "  def bfs(self, tile, adjlist, board, path, pathprob, result, visited):\n",
        "    #INPUT\n",
        "    #tile : the root tile that we are starting from\n",
        "    #adjlist : adjacency list of our graph\n",
        "    #board : 2d matrix of our graph so accessing is easier\n",
        "    #path : the current accumulated letters for our words\n",
        "    #pathprob : should we add the log probability of the current path? will do it on second try\n",
        "    #result : the resulting set from the past\n",
        "    #visited : the tiles that we have already visited\n",
        "\n",
        "    #OUTPUT\n",
        "    #result : the resulting set after conducting bfs\n",
        "\n",
        "    #check if current path is a word\n",
        "    if(len(path)>3 and self.check_probability(path, pathprob,\"\\n\")):\n",
        "      result.add(path + \"\\n\")\n",
        "\n",
        "    #check if extensions are a word\n",
        "    #for each neighbor\n",
        "    for neighbor in adjlist[tile]:\n",
        "        #if we haven't visited it yet, we do smth\n",
        "        #so if we've visited all the neighbors we just move on\n",
        "        if neighbor not in visited:\n",
        "            next = str(board[neighbor[0]][neighbor[1]])\n",
        "            #check probabilities\n",
        "            nextprob = self.check_probability(path, pathprob, next)\n",
        "            if(nextprob):\n",
        "              new = path + next\n",
        "              temp = visited.copy()\n",
        "              temp.append(neighbor)\n",
        "              result = result | self.bfs(neighbor, adjlist, board, new, pathprob + nextprob, result, temp)\n",
        "    return result \n",
        "\n",
        "\n",
        "  def solve(self, board):\n",
        "      #INPUT\n",
        "      # board: a 2-d char array of n x n dimensions\n",
        "      # cutoff: the probability 0 < cutoff < 1, such that if the probability a character follows is lower than this cutoff we do not pursue this path\n",
        "\n",
        "      #OUTPUT\n",
        "      # result: a set of words found from the board\n",
        "\n",
        "      result = set()\n",
        "\n",
        "      #first, we want to make an adjacency list\n",
        "      adjlist = board_to_adjlist(board)\n",
        "      for tile in adjlist:\n",
        "        visited = [tile]\n",
        "        path = \"0\" + str(board[tile[0]][tile[1]])\n",
        "        found = self.bfs(tile, adjlist, board, path , 0, set(), visited)\n",
        "        result = result | found\n",
        "         \n",
        "      return post_process(result)\n",
        "  \n",
        "  def train(self, boards, solutions):\n",
        "    #essentially, what we want to do here is solve each board\n",
        "    #its better to make our probability initially really small so that\n",
        "    #runtime isn't dogshit (it will take eons to run if we go through every single possible path)\n",
        "    #then our loss function will be p = p * log (wP/wR) (thinking about adding here, see which one does better), \n",
        "    # where wP is the weighted precision and wR is the weighted recall (this is based on wordhunt scores, eg 800 for 5 letter words)\n",
        "    #we keep going until we go through all the boards and solutions\n",
        "    #afterwards, print our final p-value to see where it ended up\n",
        "    return\n",
        "  \n",
        "\n",
        "  def evaluate(self, boards):\n",
        "    # boards: a list of boards (generated by the helper function generate_random_boards)\n",
        "    # this will contain a a row for every board; each row contains the precision, recall, and f1 of our solution against reference, in that order\n",
        "    summary_stats = []\n",
        "    epoch = 0\n",
        "    for board in boards:\n",
        "      print(\"epoch\", epoch, \":\\n\")\n",
        "      # TODO: FIX THE SYNTAX (ref_sol.solve is 100% not correct)\n",
        "      ref_sol = ref_sol.solve(board)\n",
        "      train_sol = self.solve(board)\n",
        "      # find precision, recall\n",
        "      prec = self.precision(train_sol, ref_sol)\n",
        "      rec = self.recall(train_sol, ref_sol)\n",
        "      f1 = (prec * rec)/(prec + rec)\n",
        "      print(\"Precision: \", prec, \"Recall: \", rec, \"F1\", f1)\n",
        "      summary_stats.append([prec, rec, f1])\n",
        "    return summary_stats"
      ],
      "metadata": {
        "id": "hMmQaY4Cb9i-"
      },
      "execution_count": 37,
      "outputs": []
    },
    {
      "cell_type": "markdown",
      "source": [
        "# Isaac: Dictionary-Based Solver"
      ],
      "metadata": {
        "id": "vSblfq6cGcR6"
      }
    },
    {
      "cell_type": "code",
      "source": [
        "class Isaac():\n",
        "  def __init__(self, dictionary):\n",
        "    self.dictionary = dictionary.listed\n",
        "  \n",
        "\n",
        "  def dfs(self, word, tile, adjlist, visited, path, board):\n",
        "    if(path == len(word)):\n",
        "      return True\n",
        "    \n",
        "    for neighbor in adjlist[tile]:\n",
        "      if neighbor not in visited:\n",
        "        if board[neighbor[0]][neighbor[1]] == word[path]:\n",
        "          temp = visited.copy()\n",
        "          temp.append(neighbor)\n",
        "          if(self.dfs(word,neighbor, adjlist, temp, path + 1, board)):\n",
        "            return True\n",
        "\n",
        "    return False\n",
        "\n",
        "\n",
        "\n",
        "  def solve(self, board):\n",
        "    result = []\n",
        "    adjlist = board_to_adjlist(board)\n",
        "    lst = board_to_list(board)\n",
        "    ref = board_to_dict(board)\n",
        "    #im going to make a dictionary for easy access\n",
        "\n",
        "    for word in self.dictionary:\n",
        "      if len(word) > 2 and len(word) <= 16 and exists(word, lst):\n",
        "        for start in ref[word[0]]:\n",
        "          if(self.dfs(word, start, adjlist, [start], 1, board)):\n",
        "            result.append(word)\n",
        "            break\n",
        "    return result\n"
      ],
      "metadata": {
        "id": "evQruf96TK1A"
      },
      "execution_count": null,
      "outputs": []
    },
    {
      "cell_type": "markdown",
      "source": [
        "# Testing Begins!"
      ],
      "metadata": {
        "id": "RRKSl8a9GWbV"
      }
    },
    {
      "cell_type": "code",
      "source": [
        "\n",
        "tester = [['A','N','T','E'], ['E','T','A','A'], ['R','D','N','N'], ['L','L','E','K']]"
      ],
      "metadata": {
        "id": "mjlDHyzbVki1"
      },
      "execution_count": null,
      "outputs": []
    },
    {
      "cell_type": "code",
      "source": [
        "dictionary = Dictionary(\"dictionary.txt\",10000)"
      ],
      "metadata": {
        "id": "Rz-8XChF-zAv"
      },
      "execution_count": null,
      "outputs": []
    },
    {
      "cell_type": "code",
      "source": [
        "lm = LanguageModel(3, \"dictionary.txt\")\n",
        "albert = Albert(lm.model, 3)"
      ],
      "metadata": {
        "id": "t4CxuO3kSQud"
      },
      "execution_count": null,
      "outputs": []
    },
    {
      "cell_type": "code",
      "source": [
        "'''\n",
        "tim = 0\n",
        "for i in range(100):\n",
        "  tic = time.perf_counter()\n",
        "  result = albert.solve(tester)\n",
        "  result = validate(dictionary, result)\n",
        "  toc = time.perf_counter()\n",
        "  tim += (toc - tic)\n",
        "tim = tim/100\n",
        "print(tim)\n",
        "'''\n",
        "tic = time.perf_counter()\n",
        "result = albert.solve(tester)\n",
        "result = sorted(result, key = len, reverse = True)\n",
        "print(len(result))\n",
        "result = validate(dictionary, result)\n",
        "toc = time.perf_counter()\n",
        "print(toc - tic)\n",
        "result = sorted(result, key = len, reverse = True)\n",
        "print(result)\n",
        "print(len(result))"
      ],
      "metadata": {
        "colab": {
          "base_uri": "https://localhost:8080/"
        },
        "id": "iZlroFIi8_dP",
        "outputId": "f37587ae-a0d4-432e-fd62-b2dc2deae5e2"
      },
      "execution_count": 41,
      "outputs": [
        {
          "output_type": "stream",
          "name": "stdout",
          "text": [
            "8606\n",
            "1.2385074430021632\n",
            "['ENTENTE', 'ANDANTE', 'TANNATE', 'DENTATE', 'NATTER', 'LENDER', 'NATANT', 'TANNED', 'LENTEN', 'ENATE', 'ANTRE', 'RENTE', 'ENDER', 'REATA', 'TATER', 'EATER', 'ANTED', 'DATER', 'KENTE', 'ENTER', 'EATEN', 'ANTE', 'DATA', 'ANNA', 'TATE', 'DELL', 'LENT', 'RENT', 'DEAN', 'KENT', 'DENT', 'DATE', 'REDE', 'ANTA', 'TENT', 'LEND', 'NANA', 'ELL', 'ANT', 'TED', 'TEN', 'RET', 'ATE', 'ETA', 'DEN', 'END', 'NAN', 'KEN', 'ANE', 'TAN', 'AND', 'DAN', 'DEL', 'LED', 'NET', 'ANA', 'RED']\n",
            "57\n"
          ]
        }
      ]
    },
    {
      "cell_type": "code",
      "source": [
        "alexei = Alexei(\"dictionary.txt\", 3,10000)"
      ],
      "metadata": {
        "id": "DB1i-3pNe2Qh"
      },
      "execution_count": 38,
      "outputs": []
    },
    {
      "cell_type": "code",
      "source": [
        "tic = time.perf_counter()\n",
        "result = alexei.solve(tester)\n",
        "result = sorted(result, key = len, reverse = True)\n",
        "print(len(result))\n",
        "result = validate(dictionary, result)\n",
        "toc = time.perf_counter()\n",
        "print(toc - tic)\n",
        "result = sorted(result, key = len, reverse = True)\n",
        "print(result)\n",
        "print(len(result))"
      ],
      "metadata": {
        "colab": {
          "base_uri": "https://localhost:8080/"
        },
        "id": "T9u5Bl-PfEvr",
        "outputId": "1d1ea836-e271-4232-d7c5-0004e807f628"
      },
      "execution_count": 43,
      "outputs": [
        {
          "output_type": "stream",
          "name": "stdout",
          "text": [
            "1292\n",
            "0.07530292999945232\n",
            "['ANTEATER', 'ANTEDATE', 'ANDANTE', 'DENTATE', 'TANNATE', 'ENTENTE', 'NATTER', 'TANKED', 'LENDER', 'NATANT', 'TEATED', 'TANNED', 'LENTEN', 'REDATE', 'EATER', 'ENATE', 'ELDER', 'ANTED', 'DATER', 'KENTE', 'ANTRE', 'KNELL', 'REATA', 'RENTE', 'TATER', 'ENDER', 'REDAN', 'ENTER', 'DELL', 'LENT', 'RENT', 'DATE', 'TENT', 'ANTE', 'DEAN', 'REDE', 'KENT', 'ANTA', 'TANK', 'TATE', 'LEND', 'DENT', 'DAN', 'ELD', 'END', 'NAN', 'ELL', 'TEN', 'DEL', 'LED', 'NET', 'KEN', 'ANA', 'ANE', 'TAN', 'RET', 'ANT', 'AND', 'RED', 'ATE', 'DEN', 'TAT', 'TED']\n",
            "63\n"
          ]
        }
      ]
    },
    {
      "cell_type": "code",
      "source": [
        "isaac = Isaac(dictionary)"
      ],
      "metadata": {
        "id": "8y-59NsNSW2m"
      },
      "execution_count": null,
      "outputs": []
    },
    {
      "cell_type": "code",
      "source": [
        "tic = time.perf_counter()\n",
        "result = isaac.solve(tester)\n",
        "result = sorted(result, key = len, reverse = True)\n",
        "print(len(result))\n",
        "result = validate(dictionary, result)\n",
        "toc = time.perf_counter()\n",
        "print(toc - tic)\n",
        "result = sorted(result, key = len, reverse = True)\n",
        "print(result)\n",
        "print(len(result))"
      ],
      "metadata": {
        "colab": {
          "base_uri": "https://localhost:8080/"
        },
        "id": "KuGsQtga6NvA",
        "outputId": "2aa8e86f-fb59-42ca-e712-4257feafd3cc"
      },
      "execution_count": 42,
      "outputs": [
        {
          "output_type": "stream",
          "name": "stdout",
          "text": [
            "87\n",
            "0.49203074099932564\n",
            "['ANTEATER', 'ANTEDATE', 'EDENTATE', 'ANDANTE', 'DENTATE', 'ENTENTE', 'TANNATE', 'ADNATE', 'ANANKE', 'LENDER', 'LENTEN', 'NATANT', 'NATTER', 'REDATE', 'TANKED', 'TANNED', 'TEATED', 'ANENT', 'ANTAE', 'ANTED', 'ANTRE', 'DATER', 'EATEN', 'EATER', 'ELDER', 'ENATE', 'ENDER', 'ENTER', 'KENTE', 'KNELL', 'REATA', 'REDAN', 'RENTE', 'TATER', 'ANNA', 'ANTA', 'ANTE', 'DANK', 'DATA', 'DATE', 'DEAN', 'DELL', 'DENT', 'ETNA', 'KENT', 'LEND', 'LENT', 'NAAN', 'NANA', 'NEAT', 'NERD', 'NETT', 'REDE', 'RENT', 'TANK', 'TATE', 'TEAT', 'TENT', 'ANA', 'AND', 'ANE', 'ANT', 'ATE', 'ATT', 'DAN', 'DEL', 'DEN', 'EAT', 'ELD', 'ELL', 'END', 'ETA', 'KEN', 'LED', 'LEK', 'NAE', 'NAN', 'NET', 'RED', 'RET', 'TAD', 'TAE', 'TAN', 'TAT', 'TEA', 'TED', 'TEN']\n",
            "87\n"
          ]
        }
      ]
    },
    {
      "cell_type": "markdown",
      "source": [
        "I explore the relationship between probability and word length here."
      ],
      "metadata": {
        "id": "5P4lUbuwhbrm"
      }
    },
    {
      "cell_type": "code",
      "source": [
        "#idk what this is but im gonna try it\n",
        "def calculate_logprob(word, n):\n",
        "  word = \"0\" + word + \"\\n\"\n",
        "  result = 0\n",
        "  for i in range(len(word) - (n-1)):\n",
        "    result += math.log(lm.model[word[i:i+n]])\n",
        "  return result\n",
        "\n",
        "temp = dict()\n",
        "result = dict()\n",
        "for word in dictionary.listed:\n",
        "  if (len(word) in temp):\n",
        "    temp[len(word)].append(calculate_logprob(word, 3))\n",
        "  else:\n",
        "    temp[len(word)] = [calculate_logprob(word, 3)]\n",
        "for length,probabilities in temp.items():\n",
        "    result[length] = sum(probabilities)/len(probabilities)\n",
        "print(result)\n",
        "\n",
        "\n",
        "\n",
        "  \n"
      ],
      "metadata": {
        "colab": {
          "base_uri": "https://localhost:8080/"
        },
        "id": "vEbnyPOWICSv",
        "outputId": "0deddb2c-f34c-42d2-ec53-55c1e3eee068"
      },
      "execution_count": null,
      "outputs": [
        {
          "output_type": "stream",
          "name": "stdout",
          "text": [
            "{2: -6.414554690303605, 3: -8.604237692845928, 5: -11.882632491842879, 6: -13.657852758752027, 4: -10.181407818829243, 8: -17.353987041081496, 9: -19.168973224840833, 10: -20.713177139715725, 7: -15.361038521793596, 11: -22.387239925257386, 12: -24.11778948221498, 13: -25.859070851168124, 14: -27.60361337652588, 15: -29.336418250737132}\n"
          ]
        }
      ]
    },
    {
      "cell_type": "code",
      "source": [
        "import matplotlib.pylab as plt\n",
        "\n",
        "lists = sorted(result.items()) # sorted by key, return a list of tuples\n",
        "\n",
        "x, y = zip(*lists) # unpack a list of pairs into two tuples\n",
        "\n",
        "plt.plot(x, y)\n",
        "plt.show()"
      ],
      "metadata": {
        "colab": {
          "base_uri": "https://localhost:8080/",
          "height": 265
        },
        "id": "ENF6xVL9LisP",
        "outputId": "2ce89a62-04d9-42dc-9719-67d03aee19b8"
      },
      "execution_count": null,
      "outputs": [
        {
          "output_type": "display_data",
          "data": {
            "text/plain": [
              "<Figure size 432x288 with 1 Axes>"
            ],
            "image/png": "[encoded data removed]"
          },
          "metadata": {
            "needs_background": "light"
          }
        }
      ]
    },
    {
      "cell_type": "markdown",
      "source": [
        "# MASS TESTING\n",
        "The idea here is we're going to generate a bunch of random boards and solve each one. We will first evaluate on a few easy metrics that we have already looked at previously\n",
        "\n",
        "\n",
        "1.   Number Correct/Number Total\n",
        "2.   Number Correct/Number Generated\n",
        "3.   Time to Generate\n",
        "\n"
      ],
      "metadata": {
        "id": "RAv2cEfyhrax"
      }
    },
    {
      "cell_type": "code",
      "source": [
        "def test(n):\n",
        "  #summary statistics of albert\n",
        "  albert_precision = 0\n",
        "  albert_acc = 0\n",
        "  albert_time = 0\n",
        "  #summary statistics of alexei\n",
        "  alexei_precision = 0\n",
        "  alexei_acc = 0\n",
        "  alexei_time = 0\n",
        "  #summary statistics of isaac\n",
        "  isaac_precision = 1\n",
        "  isaac_acc = 1\n",
        "  isaac_time = 0 \n",
        "\n",
        "  batch = generate_random_boards(n,4,4)\n",
        "  for board in batch:\n",
        "\n",
        "    #TESTING FOR ISAAC - OUR CONTROL SOLUTION\n",
        "    tic = time.perf_counter()\n",
        "    isaac_res = isaac.solve(board)\n",
        "    toc = time.perf_counter()\n",
        "    isaac_time += (toc - tic)\n",
        "    refsol = len(isaac_res)\n",
        "\n",
        "\n",
        "    #TESTING FOR ALBERT - OUR FIRST VERSION\n",
        "    tic = time.perf_counter()\n",
        "    albert_res = albert.solve(board)\n",
        "    tot_albert = len(albert_res)\n",
        "    albert_res = validate(dictionary, albert_res)\n",
        "    red_albert = len(albert_res)\n",
        "    toc = time.perf_counter()\n",
        "    albert_time += (toc - tic)\n",
        "    albert_precision += red_albert/tot_albert\n",
        "    albert_acc += red_albert/refsol\n",
        "\n",
        "\n",
        "    #TESTING FOR ALEXEI - OUR SECOND VERSION\n",
        "    tic = time.perf_counter()\n",
        "    alexei_res = alexei.solve(board)\n",
        "    tot_alexei = len(alexei_res)\n",
        "    alexei_res = validate(dictionary, alexei_res)\n",
        "    red_alexei = len(alexei_res)\n",
        "    toc = time.perf_counter()\n",
        "    alexei_time += (toc - tic)\n",
        "    alexei_precision += red_alexei/tot_alexei\n",
        "    alexei_acc += red_alexei/refsol\n",
        "    \n",
        "  #printing the final statistics\n",
        "  print(\"FINAL SUMMARY STATISTICS\")\n",
        "  print(\"########################\")\n",
        "  print(\"ISAAC REFERENCE STATISTICS\")\n",
        "  print(\"ISAAC NUMBER CORRECT/NUMBER TOTAL: {}\".format(isaac_precision))\n",
        "  print(\"ISAAC NUMBER CORRECT/NUMBER GENERATED: {}\".format(isaac_acc))\n",
        "  print(\"ISAAC AVERAGE TIME TO SOLVE: {}\".format(isaac_time/n))\n",
        "  print(\"~~~~~~~~~~~~~~~~~~~~~~~~~~~\")\n",
        "  print(\"ALBERT REFERENCE STATISTICS\")\n",
        "  print(\"ALBERT NUMBER CORRECT/NUMBER TOTAL: {}\".format(albert_precision/n))\n",
        "  print(\"ALBERT NUMBER CORRECT/NUMBER GENERATED: {}\".format(albert_acc/n))\n",
        "  print(\"ALBERT AVERAGE TIME TO SOLVE: {}\".format(albert_time/n))\n",
        "  print(\"~~~~~~~~~~~~~~~~~~~~~~~~~~~\")\n",
        "  print(\"ALEXEI REFERENCE STATISTICS\")\n",
        "  print(\"ALEXEI NUMBER CORRECT/NUMBER TOTAL: {}\".format(alexei_precision/n))\n",
        "  print(\"ALEXEI NUMBER CORRECT/NUMBER GENERATED: {}\".format(alexei_acc/n))\n",
        "  print(\"ALEXEI AVERAGE TIME TO SOLVE: {}\".format(alexei_time/n))\n",
        "\n",
        "\n",
        "\n"
      ],
      "metadata": {
        "id": "Gspg4MZbiTv_"
      },
      "execution_count": 44,
      "outputs": []
    },
    {
      "cell_type": "code",
      "source": [
        "test(100)"
      ],
      "metadata": {
        "colab": {
          "base_uri": "https://localhost:8080/"
        },
        "id": "rkU1aoklk2H9",
        "outputId": "98d9690b-ab5a-4e84-ef22-0bc6aad749e0"
      },
      "execution_count": 47,
      "outputs": [
        {
          "output_type": "stream",
          "name": "stdout",
          "text": [
            "FINAL SUMMARY STATISTICS\n",
            "########################\n",
            "ISAAC REFERENCE STATISTICS\n",
            "ISAAC NUMBER CORRECT/NUMBER TOTAL: 1\n",
            "ISAAC NUMBER CORRECT/NUMBER GENERATED: 1\n",
            "ISAAC AVERAGE TIME TO SOLVE: 0.42252371575017605\n",
            "~~~~~~~~~~~~~~~~~~~~~~~~~~~\n",
            "ALBERT REFERENCE STATISTICS\n",
            "ALBERT NUMBER CORRECT/NUMBER TOTAL: 0.06183175207702251\n",
            "ALBERT NUMBER CORRECT/NUMBER GENERATED: 0.45496053016798876\n",
            "ALBERT AVERAGE TIME TO SOLVE: 0.09361850172004779\n",
            "~~~~~~~~~~~~~~~~~~~~~~~~~~~\n",
            "ALEXEI REFERENCE STATISTICS\n",
            "ALEXEI NUMBER CORRECT/NUMBER TOTAL: 0.18300540722741712\n",
            "ALEXEI NUMBER CORRECT/NUMBER GENERATED: 0.5073200886783271\n",
            "ALEXEI AVERAGE TIME TO SOLVE: 0.015043038050134783\n"
          ]
        }
      ]
    }
  ]
}